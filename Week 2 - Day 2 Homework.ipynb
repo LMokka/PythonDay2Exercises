{
 "cells": [
  {
   "cell_type": "markdown",
   "id": "6a8b9eb8",
   "metadata": {},
   "source": [
    "Exercise 1\n",
    "Create a list of numbers that are less than ten using l_1 and list comprehension\n",
    "\n",
    "\n",
    "Your output should [1,5,8,9]"
   ]
  },
  {
   "cell_type": "code",
   "execution_count": 1,
   "id": "0b108cc3",
   "metadata": {},
   "outputs": [
    {
     "name": "stdout",
     "output_type": "stream",
     "text": [
      "[1, 5, 8, 9]\n",
      "[1, 5, 8, 9]\n"
     ]
    }
   ],
   "source": [
    "# Use the following list - [1,11,14,5,8,9]\n",
    "\n",
    "List1 = [1,11,14,5,8,9]\n",
    "List2 = []\n",
    "\n",
    "for num in List1:\n",
    "    if num < 10:\n",
    "        List2.append(num)\n",
    "print(List2)\n",
    "\n",
    "List2 = [num for num in List1 if num<10]\n",
    "print(List2) "
   ]
  },
  {
   "cell_type": "markdown",
   "id": "70a62052",
   "metadata": {},
   "source": [
    "Exercise 2\n",
    "Using list comprehension, create a list of names of 4 letters or more and capitalize each name"
   ]
  },
  {
   "cell_type": "code",
   "execution_count": 2,
   "id": "c034f00b",
   "metadata": {},
   "outputs": [
    {
     "name": "stdout",
     "output_type": "stream",
     "text": [
      "['Connor', 'Connor', 'Connor', 'Evan', 'Evan', 'Kevin']\n",
      "['Connor', 'Connor', 'Connor', 'Evan', 'Evan', 'Kevin']\n",
      "['Connor', 'Connor', 'Connor', 'Evan', 'Evan', 'Kevin']\n"
     ]
    }
   ],
   "source": [
    "Names1 = ['connor', 'connor', 'bob', 'connor', 'evan', 'max', 'evan', 'bob', 'kevin']\n",
    "Names2 = []\n",
    "\n",
    "for i in Names1:\n",
    "    if len(i) >= 4:\n",
    "        Names2.append(i.capitalize())\n",
    "print(Names2)\n",
    "\n",
    "Names2 = [i.capitalize() for i in Names1 if len(i) >= 4 ]\n",
    "print(Names2)\n",
    "\n",
    "\n",
    "# Bonus Challenge\n",
    "Names3 = ['connor', 'connor', 'bob', 'connor', 'evan', 'max', 'evan', 2, 2, 2, 3, 3, 4, 'bob', 'kevin']\n",
    "Names4 =[]\n",
    "\n",
    "for i in Names3:\n",
    "    if isinstance(i, str) and len(i) >=4:\n",
    "        Names4.append(i.capitalize())\n",
    "print(Names4)"
   ]
  }
 ],
 "metadata": {
  "kernelspec": {
   "display_name": "Python 3",
   "language": "python",
   "name": "python3"
  },
  "language_info": {
   "codemirror_mode": {
    "name": "ipython",
    "version": 3
   },
   "file_extension": ".py",
   "mimetype": "text/x-python",
   "name": "python",
   "nbconvert_exporter": "python",
   "pygments_lexer": "ipython3",
   "version": "3.8.8"
  }
 },
 "nbformat": 4,
 "nbformat_minor": 5
}
